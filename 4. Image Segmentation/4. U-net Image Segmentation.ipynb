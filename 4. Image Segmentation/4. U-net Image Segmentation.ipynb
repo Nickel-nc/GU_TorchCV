{
 "cells": [
  {
   "cell_type": "markdown",
   "metadata": {},
   "source": [
    "# Image segmentation for [set-lipstick-original dataset](https://www.kaggle.com/olekslu/makeup-lips-segmentation-28k-samples/)"
   ]
  },
  {
   "cell_type": "code",
   "execution_count": 1,
   "metadata": {},
   "outputs": [],
   "source": [
    "import time\n",
    "import os\n",
    "from glob import glob\n",
    "\n",
    "import numpy as np \n",
    "import pandas as pd\n",
    "\n",
    "from sklearn.preprocessing import StandardScaler\n",
    "from sklearn.model_selection import train_test_split\n",
    "from sklearn.metrics import jaccard_score as jsc\n",
    "\n",
    "from matplotlib import pyplot as plt \n",
    "from PIL import Image\n",
    "\n",
    "import torch\n",
    "import torch.nn as nn\n",
    "from torch.nn import functional as F\n",
    "from torch.utils.data import Dataset, DataLoader\n",
    "from torch.autograd import Variable\n",
    "\n",
    "# !pip install segmentation-models-pytorch\n",
    "import segmentation_models_pytorch as smp"
   ]
  },
  {
   "cell_type": "markdown",
   "metadata": {},
   "source": [
    "## Read and preprocess data"
   ]
  },
  {
   "cell_type": "code",
   "execution_count": null,
   "metadata": {},
   "outputs": [],
   "source": []
  },
  {
   "cell_type": "code",
   "execution_count": 2,
   "metadata": {},
   "outputs": [
    {
     "data": {
      "text/html": [
       "<div>\n",
       "<style scoped>\n",
       "    .dataframe tbody tr th:only-of-type {\n",
       "        vertical-align: middle;\n",
       "    }\n",
       "\n",
       "    .dataframe tbody tr th {\n",
       "        vertical-align: top;\n",
       "    }\n",
       "\n",
       "    .dataframe thead th {\n",
       "        text-align: right;\n",
       "    }\n",
       "</style>\n",
       "<table border=\"1\" class=\"dataframe\">\n",
       "  <thead>\n",
       "    <tr style=\"text-align: right;\">\n",
       "      <th></th>\n",
       "      <th>filename</th>\n",
       "      <th>width</th>\n",
       "      <th>height</th>\n",
       "      <th>class</th>\n",
       "      <th>xmin</th>\n",
       "      <th>ymin</th>\n",
       "      <th>xmax</th>\n",
       "      <th>ymax</th>\n",
       "      <th>mask</th>\n",
       "    </tr>\n",
       "  </thead>\n",
       "  <tbody>\n",
       "    <tr>\n",
       "      <th>0</th>\n",
       "      <td>image00000001.jpg</td>\n",
       "      <td>1280</td>\n",
       "      <td>720</td>\n",
       "      <td>Lips</td>\n",
       "      <td>661</td>\n",
       "      <td>394</td>\n",
       "      <td>776</td>\n",
       "      <td>444</td>\n",
       "      <td>mask00000001.png</td>\n",
       "    </tr>\n",
       "    <tr>\n",
       "      <th>1</th>\n",
       "      <td>image00000002.jpg</td>\n",
       "      <td>1280</td>\n",
       "      <td>720</td>\n",
       "      <td>Lips</td>\n",
       "      <td>557</td>\n",
       "      <td>336</td>\n",
       "      <td>682</td>\n",
       "      <td>392</td>\n",
       "      <td>mask00000002.png</td>\n",
       "    </tr>\n",
       "    <tr>\n",
       "      <th>2</th>\n",
       "      <td>image00000003.jpg</td>\n",
       "      <td>1280</td>\n",
       "      <td>720</td>\n",
       "      <td>Lips</td>\n",
       "      <td>553</td>\n",
       "      <td>369</td>\n",
       "      <td>684</td>\n",
       "      <td>427</td>\n",
       "      <td>mask00000003.png</td>\n",
       "    </tr>\n",
       "    <tr>\n",
       "      <th>3</th>\n",
       "      <td>image00000004.jpg</td>\n",
       "      <td>1280</td>\n",
       "      <td>720</td>\n",
       "      <td>Lips</td>\n",
       "      <td>555</td>\n",
       "      <td>351</td>\n",
       "      <td>681</td>\n",
       "      <td>408</td>\n",
       "      <td>mask00000004.png</td>\n",
       "    </tr>\n",
       "    <tr>\n",
       "      <th>4</th>\n",
       "      <td>image00000005.jpg</td>\n",
       "      <td>1280</td>\n",
       "      <td>720</td>\n",
       "      <td>Lips</td>\n",
       "      <td>555</td>\n",
       "      <td>351</td>\n",
       "      <td>680</td>\n",
       "      <td>407</td>\n",
       "      <td>mask00000005.png</td>\n",
       "    </tr>\n",
       "    <tr>\n",
       "      <th>...</th>\n",
       "      <td>...</td>\n",
       "      <td>...</td>\n",
       "      <td>...</td>\n",
       "      <td>...</td>\n",
       "      <td>...</td>\n",
       "      <td>...</td>\n",
       "      <td>...</td>\n",
       "      <td>...</td>\n",
       "      <td>...</td>\n",
       "    </tr>\n",
       "    <tr>\n",
       "      <th>28589</th>\n",
       "      <td>image00028590.jpg</td>\n",
       "      <td>1280</td>\n",
       "      <td>720</td>\n",
       "      <td>Lips</td>\n",
       "      <td>657</td>\n",
       "      <td>347</td>\n",
       "      <td>817</td>\n",
       "      <td>450</td>\n",
       "      <td>mask00028590.png</td>\n",
       "    </tr>\n",
       "    <tr>\n",
       "      <th>28590</th>\n",
       "      <td>image00028591.jpg</td>\n",
       "      <td>1280</td>\n",
       "      <td>720</td>\n",
       "      <td>Lips</td>\n",
       "      <td>713</td>\n",
       "      <td>325</td>\n",
       "      <td>884</td>\n",
       "      <td>388</td>\n",
       "      <td>mask00028591.png</td>\n",
       "    </tr>\n",
       "    <tr>\n",
       "      <th>28591</th>\n",
       "      <td>image00028592.jpg</td>\n",
       "      <td>1280</td>\n",
       "      <td>720</td>\n",
       "      <td>Lips</td>\n",
       "      <td>659</td>\n",
       "      <td>401</td>\n",
       "      <td>808</td>\n",
       "      <td>488</td>\n",
       "      <td>mask00028592.png</td>\n",
       "    </tr>\n",
       "    <tr>\n",
       "      <th>28592</th>\n",
       "      <td>image00028593.jpg</td>\n",
       "      <td>1280</td>\n",
       "      <td>720</td>\n",
       "      <td>Lips</td>\n",
       "      <td>689</td>\n",
       "      <td>334</td>\n",
       "      <td>839</td>\n",
       "      <td>431</td>\n",
       "      <td>mask00028593.png</td>\n",
       "    </tr>\n",
       "    <tr>\n",
       "      <th>28593</th>\n",
       "      <td>image00028594.jpg</td>\n",
       "      <td>1280</td>\n",
       "      <td>720</td>\n",
       "      <td>Lips</td>\n",
       "      <td>657</td>\n",
       "      <td>381</td>\n",
       "      <td>817</td>\n",
       "      <td>476</td>\n",
       "      <td>mask00028594.png</td>\n",
       "    </tr>\n",
       "  </tbody>\n",
       "</table>\n",
       "<p>28594 rows × 9 columns</p>\n",
       "</div>"
      ],
      "text/plain": [
       "                filename  width  height class  xmin  ymin  xmax  ymax  \\\n",
       "0      image00000001.jpg   1280     720  Lips   661   394   776   444   \n",
       "1      image00000002.jpg   1280     720  Lips   557   336   682   392   \n",
       "2      image00000003.jpg   1280     720  Lips   553   369   684   427   \n",
       "3      image00000004.jpg   1280     720  Lips   555   351   681   408   \n",
       "4      image00000005.jpg   1280     720  Lips   555   351   680   407   \n",
       "...                  ...    ...     ...   ...   ...   ...   ...   ...   \n",
       "28589  image00028590.jpg   1280     720  Lips   657   347   817   450   \n",
       "28590  image00028591.jpg   1280     720  Lips   713   325   884   388   \n",
       "28591  image00028592.jpg   1280     720  Lips   659   401   808   488   \n",
       "28592  image00028593.jpg   1280     720  Lips   689   334   839   431   \n",
       "28593  image00028594.jpg   1280     720  Lips   657   381   817   476   \n",
       "\n",
       "                   mask  \n",
       "0      mask00000001.png  \n",
       "1      mask00000002.png  \n",
       "2      mask00000003.png  \n",
       "3      mask00000004.png  \n",
       "4      mask00000005.png  \n",
       "...                 ...  \n",
       "28589  mask00028590.png  \n",
       "28590  mask00028591.png  \n",
       "28591  mask00028592.png  \n",
       "28592  mask00028593.png  \n",
       "28593  mask00028594.png  \n",
       "\n",
       "[28594 rows x 9 columns]"
      ]
     },
     "execution_count": 2,
     "metadata": {},
     "output_type": "execute_result"
    }
   ],
   "source": [
    "df = pd.read_csv('data\\list.csv')\n",
    "df"
   ]
  },
  {
   "cell_type": "code",
   "execution_count": 3,
   "metadata": {},
   "outputs": [
    {
     "data": {
      "text/plain": [
       "array([720, 675], dtype=int64)"
      ]
     },
     "execution_count": 3,
     "metadata": {},
     "output_type": "execute_result"
    }
   ],
   "source": [
    "df['height'].unique()"
   ]
  },
  {
   "cell_type": "code",
   "execution_count": 4,
   "metadata": {},
   "outputs": [],
   "source": [
    "# define some settings\n",
    "epochs = 10\n",
    "\n",
    "img_fp = 'data/720p'\n",
    "masks_fp = 'data/mask'"
   ]
  },
  {
   "cell_type": "code",
   "execution_count": 5,
   "metadata": {},
   "outputs": [
    {
     "data": {
      "text/plain": [
       "(28594, 28540)"
      ]
     },
     "execution_count": 5,
     "metadata": {},
     "output_type": "execute_result"
    }
   ],
   "source": [
    "masks = glob(masks_fp+'/*')\n",
    "images = glob(img_fp+'/*')\n",
    "\n",
    "# there is a mismatch between real images and masks\n",
    "len(images), len(masks)"
   ]
  },
  {
   "cell_type": "code",
   "execution_count": 6,
   "metadata": {},
   "outputs": [],
   "source": [
    "# add relative path to images and masks\n",
    "df['filename'] = img_fp + '/' + df['filename'].astype(str)\n",
    "df['mask'] = masks_fp + '/' + df['mask'].astype(str)"
   ]
  },
  {
   "cell_type": "code",
   "execution_count": 7,
   "metadata": {},
   "outputs": [
    {
     "data": {
      "text/html": [
       "<div>\n",
       "<style scoped>\n",
       "    .dataframe tbody tr th:only-of-type {\n",
       "        vertical-align: middle;\n",
       "    }\n",
       "\n",
       "    .dataframe tbody tr th {\n",
       "        vertical-align: top;\n",
       "    }\n",
       "\n",
       "    .dataframe thead th {\n",
       "        text-align: right;\n",
       "    }\n",
       "</style>\n",
       "<table border=\"1\" class=\"dataframe\">\n",
       "  <thead>\n",
       "    <tr style=\"text-align: right;\">\n",
       "      <th></th>\n",
       "      <th>filename</th>\n",
       "      <th>width</th>\n",
       "      <th>height</th>\n",
       "      <th>class</th>\n",
       "      <th>xmin</th>\n",
       "      <th>ymin</th>\n",
       "      <th>xmax</th>\n",
       "      <th>ymax</th>\n",
       "      <th>mask</th>\n",
       "    </tr>\n",
       "  </thead>\n",
       "  <tbody>\n",
       "    <tr>\n",
       "      <th>0</th>\n",
       "      <td>data/720p/image00000001.jpg</td>\n",
       "      <td>1280</td>\n",
       "      <td>720</td>\n",
       "      <td>Lips</td>\n",
       "      <td>661</td>\n",
       "      <td>394</td>\n",
       "      <td>776</td>\n",
       "      <td>444</td>\n",
       "      <td>data/mask/mask00000001.png</td>\n",
       "    </tr>\n",
       "    <tr>\n",
       "      <th>1</th>\n",
       "      <td>data/720p/image00000002.jpg</td>\n",
       "      <td>1280</td>\n",
       "      <td>720</td>\n",
       "      <td>Lips</td>\n",
       "      <td>557</td>\n",
       "      <td>336</td>\n",
       "      <td>682</td>\n",
       "      <td>392</td>\n",
       "      <td>data/mask/mask00000002.png</td>\n",
       "    </tr>\n",
       "    <tr>\n",
       "      <th>2</th>\n",
       "      <td>data/720p/image00000003.jpg</td>\n",
       "      <td>1280</td>\n",
       "      <td>720</td>\n",
       "      <td>Lips</td>\n",
       "      <td>553</td>\n",
       "      <td>369</td>\n",
       "      <td>684</td>\n",
       "      <td>427</td>\n",
       "      <td>data/mask/mask00000003.png</td>\n",
       "    </tr>\n",
       "    <tr>\n",
       "      <th>3</th>\n",
       "      <td>data/720p/image00000004.jpg</td>\n",
       "      <td>1280</td>\n",
       "      <td>720</td>\n",
       "      <td>Lips</td>\n",
       "      <td>555</td>\n",
       "      <td>351</td>\n",
       "      <td>681</td>\n",
       "      <td>408</td>\n",
       "      <td>data/mask/mask00000004.png</td>\n",
       "    </tr>\n",
       "    <tr>\n",
       "      <th>4</th>\n",
       "      <td>data/720p/image00000005.jpg</td>\n",
       "      <td>1280</td>\n",
       "      <td>720</td>\n",
       "      <td>Lips</td>\n",
       "      <td>555</td>\n",
       "      <td>351</td>\n",
       "      <td>680</td>\n",
       "      <td>407</td>\n",
       "      <td>data/mask/mask00000005.png</td>\n",
       "    </tr>\n",
       "  </tbody>\n",
       "</table>\n",
       "</div>"
      ],
      "text/plain": [
       "                      filename  width  height class  xmin  ymin  xmax  ymax  \\\n",
       "0  data/720p/image00000001.jpg   1280     720  Lips   661   394   776   444   \n",
       "1  data/720p/image00000002.jpg   1280     720  Lips   557   336   682   392   \n",
       "2  data/720p/image00000003.jpg   1280     720  Lips   553   369   684   427   \n",
       "3  data/720p/image00000004.jpg   1280     720  Lips   555   351   681   408   \n",
       "4  data/720p/image00000005.jpg   1280     720  Lips   555   351   680   407   \n",
       "\n",
       "                         mask  \n",
       "0  data/mask/mask00000001.png  \n",
       "1  data/mask/mask00000002.png  \n",
       "2  data/mask/mask00000003.png  \n",
       "3  data/mask/mask00000004.png  \n",
       "4  data/mask/mask00000005.png  "
      ]
     },
     "execution_count": 7,
     "metadata": {},
     "output_type": "execute_result"
    }
   ],
   "source": [
    "df.head()"
   ]
  },
  {
   "cell_type": "code",
   "execution_count": 8,
   "metadata": {},
   "outputs": [
    {
     "name": "stdout",
     "output_type": "stream",
     "text": [
      "Search done, rows to remove: 54\n"
     ]
    }
   ],
   "source": [
    "# delete rows if real images not found for it\n",
    "idx_to_drop = []\n",
    "\n",
    "for idx in df.index:\n",
    "    cur_row = df.iloc[idx]\n",
    "    if not os.path.exists(cur_row['filename']) or not os.path.exists(cur_row['mask']):\n",
    "        # list_df = list_df.drop(idx, axis=0)\n",
    "        idx_to_drop.append(idx)\n",
    "        \n",
    "print(f\"Search done, rows to remove: {len(idx_to_drop)}\")"
   ]
  },
  {
   "cell_type": "code",
   "execution_count": 9,
   "metadata": {},
   "outputs": [],
   "source": [
    "df = df.drop(idx_to_drop, axis=0)\n",
    "df = df[['filename', 'mask']]\n",
    "df = df.reset_index(drop=True)"
   ]
  },
  {
   "cell_type": "code",
   "execution_count": 10,
   "metadata": {},
   "outputs": [
    {
     "data": {
      "text/plain": [
       "(28540, 2)"
      ]
     },
     "execution_count": 10,
     "metadata": {},
     "output_type": "execute_result"
    }
   ],
   "source": [
    "df.shape"
   ]
  },
  {
   "cell_type": "code",
   "execution_count": 11,
   "metadata": {},
   "outputs": [
    {
     "data": {
      "text/html": [
       "<div>\n",
       "<style scoped>\n",
       "    .dataframe tbody tr th:only-of-type {\n",
       "        vertical-align: middle;\n",
       "    }\n",
       "\n",
       "    .dataframe tbody tr th {\n",
       "        vertical-align: top;\n",
       "    }\n",
       "\n",
       "    .dataframe thead th {\n",
       "        text-align: right;\n",
       "    }\n",
       "</style>\n",
       "<table border=\"1\" class=\"dataframe\">\n",
       "  <thead>\n",
       "    <tr style=\"text-align: right;\">\n",
       "      <th></th>\n",
       "      <th>filename</th>\n",
       "      <th>mask</th>\n",
       "    </tr>\n",
       "  </thead>\n",
       "  <tbody>\n",
       "    <tr>\n",
       "      <th>0</th>\n",
       "      <td>data/720p/image00000001.jpg</td>\n",
       "      <td>data/mask/mask00000001.png</td>\n",
       "    </tr>\n",
       "    <tr>\n",
       "      <th>1</th>\n",
       "      <td>data/720p/image00000002.jpg</td>\n",
       "      <td>data/mask/mask00000002.png</td>\n",
       "    </tr>\n",
       "    <tr>\n",
       "      <th>2</th>\n",
       "      <td>data/720p/image00000003.jpg</td>\n",
       "      <td>data/mask/mask00000003.png</td>\n",
       "    </tr>\n",
       "    <tr>\n",
       "      <th>3</th>\n",
       "      <td>data/720p/image00000004.jpg</td>\n",
       "      <td>data/mask/mask00000004.png</td>\n",
       "    </tr>\n",
       "    <tr>\n",
       "      <th>4</th>\n",
       "      <td>data/720p/image00000005.jpg</td>\n",
       "      <td>data/mask/mask00000005.png</td>\n",
       "    </tr>\n",
       "  </tbody>\n",
       "</table>\n",
       "</div>"
      ],
      "text/plain": [
       "                      filename                        mask\n",
       "0  data/720p/image00000001.jpg  data/mask/mask00000001.png\n",
       "1  data/720p/image00000002.jpg  data/mask/mask00000002.png\n",
       "2  data/720p/image00000003.jpg  data/mask/mask00000003.png\n",
       "3  data/720p/image00000004.jpg  data/mask/mask00000004.png\n",
       "4  data/720p/image00000005.jpg  data/mask/mask00000005.png"
      ]
     },
     "execution_count": 11,
     "metadata": {},
     "output_type": "execute_result"
    }
   ],
   "source": [
    "df.head()"
   ]
  },
  {
   "cell_type": "code",
   "execution_count": 12,
   "metadata": {},
   "outputs": [],
   "source": [
    "# adopted from class notebook\n",
    "\n",
    "class CustomDatasetFromImages(Dataset):\n",
    "    def __init__(self, data_info):\n",
    "        # Подаем наш подготовленный датафрейм\n",
    "        self.data_info = data_info\n",
    "        \n",
    "        # Разделяем датафрейм на rgb картинки \n",
    "        self.image_arr = self.data_info.iloc[:,0]\n",
    "        # и на сегментированные картинки\n",
    "        self.label_arr = self.data_info.iloc[:,1]\n",
    "        \n",
    "        # Количество пар картинка-сегментация\n",
    "        self.data_len = len(self.data_info.index)\n",
    "    def __getitem__(self, index):\n",
    "        # Читаем картинку и сразу же представляем ее в виде numpy-массива \n",
    "        # размера XxY float-значений\n",
    "        img = np.asarray(Image.open(self.image_arr[index])).astype('float')\n",
    "        # Нормализуем изображение в значениях [0,1]\n",
    "        img = torch.as_tensor(img)/255    \n",
    "        # 1) unsqueeze - меняет размерность img c (x, y, 3) -> (1, x, y, 3),\n",
    "        # т.е. оборачивает картинку в батч размером в одну картинку\n",
    "        # 2) permute - меняет местами измерения , т.е. (1, x, y, 3) -> (1, 3, x, y)\n",
    "        img = img.unsqueeze(0).permute(0,3,1,2)\n",
    "        # Мы используем функцию интерполяции для того,\n",
    "        # чтобы поменять рамерность картинки с XxY на 256х256\n",
    "        img = F.interpolate(input=img, size=256, align_corners=False, mode='bicubic')\n",
    "        \n",
    "        # итаем сегментированную картинку и сразу же представляем ее в виде numpy-массива \n",
    "        # размера XY float-значений\n",
    "        lab = np.asarray(plt.imread(self.label_arr[index]))[:,:,0]*255\n",
    "        \n",
    "        # Упаковываем ее в pytorch-тензор и оборачиваем ее в батч из одной каринки,\n",
    "        # но при этом заполняем 2 каналов масками нужных классов\n",
    "        # 1, если принадлежит классу, 0 если не принадлежит \n",
    "        x_out = torch.as_tensor(np.where(lab == 0, 255, 0)).unsqueeze(0)\n",
    "        for i in range(1, 2):\n",
    "            mask = np.asarray(plt.imread(self.label_arr[index]))[:,:,0]*255\n",
    "            mask = np.where(mask == i, 255, 0)\n",
    "            x = torch.as_tensor(mask).unsqueeze(0)\n",
    "            x_out =  torch.cat((x_out,x),dim=0)    \n",
    "        x_out = x_out.float()\n",
    "        \n",
    "        lab = x_out.unsqueeze(0)\n",
    "        # делаем ресайз картинки на 256х256\n",
    "        lab = F.interpolate(input=lab, size=256, mode='nearest')\n",
    "                \n",
    "        return (img.float(), lab.float())\n",
    "\n",
    "    def __len__(self):\n",
    "        return self.data_len\n",
    "    \n",
    "    \n",
    "class SoftDiceLoss(nn.Module):\n",
    "    def __init__(self, weight=None, size_average=True):\n",
    "        super(SoftDiceLoss, self).__init__()\n",
    "\n",
    "    def forward(self, logits, targets):\n",
    "        smooth =1\n",
    "        num = targets.size(0)\n",
    "        probs = logits\n",
    "        m1 = probs.view(num, -1)\n",
    "        m2 = targets.view(num, -1)\n",
    "        intersection = (m1 * m2)\n",
    "\n",
    "        score =(2. * intersection.sum(1) + smooth) / (m1.sum(1) + m2.sum(1) + smooth)\n",
    "        #print(score.sum())\n",
    "        score =1 - score.sum() / num\n",
    "        return score"
   ]
  },
  {
   "cell_type": "code",
   "execution_count": 20,
   "metadata": {},
   "outputs": [],
   "source": [
    "# split dataset image paths\n",
    "X_train, X_test = train_test_split(df, test_size=0.3)\n",
    "\n",
    "# reset indexes\n",
    "X_train = X_train.reset_index(drop=True)\n",
    "X_test = X_test.reset_index(drop=True)"
   ]
  },
  {
   "cell_type": "code",
   "execution_count": 21,
   "metadata": {},
   "outputs": [],
   "source": [
    "# wrap up with torch dataset\n",
    "train_data = CustomDatasetFromImages(X_train)\n",
    "test_data = CustomDatasetFromImages(X_test)\n",
    "\n",
    "train_data_loader = DataLoader(train_data, batch_size=128,shuffle=True)\n",
    "test_data_loader = DataLoader(train_data, batch_size=128,shuffle=False)"
   ]
  },
  {
   "cell_type": "code",
   "execution_count": 22,
   "metadata": {},
   "outputs": [
    {
     "data": {
      "text/plain": [
       "device(type='cuda', index=0)"
      ]
     },
     "execution_count": 22,
     "metadata": {},
     "output_type": "execute_result"
    }
   ],
   "source": [
    "device = torch.device('cuda:0' if torch.cuda.is_available() else 'cpu')\n",
    "device"
   ]
  },
  {
   "cell_type": "code",
   "execution_count": 23,
   "metadata": {},
   "outputs": [],
   "source": [
    "# create model\n",
    "segmodel = smp.Unet()\n",
    "segmodel = smp.Unet('resnet34', classes=2, activation='softmax').to(device) # se_resnet101"
   ]
  },
  {
   "cell_type": "code",
   "execution_count": 24,
   "metadata": {},
   "outputs": [],
   "source": [
    "optimizer = torch.optim.Adam(segmodel.parameters())"
   ]
  },
  {
   "cell_type": "code",
   "execution_count": 27,
   "metadata": {},
   "outputs": [],
   "source": [
    "criterion = SoftDiceLoss()"
   ]
  },
  {
   "cell_type": "code",
   "execution_count": 29,
   "metadata": {},
   "outputs": [
    {
     "name": "stderr",
     "output_type": "stream",
     "text": [
      "C:\\Users\\Nickel\\anaconda3\\lib\\site-packages\\segmentation_models_pytorch\\base\\modules.py:102: UserWarning: Implicit dimension choice for softmax has been deprecated. Change the call to include dim=X as an argument.\n",
      "  return self.activation(x)\n"
     ]
    },
    {
     "name": "stdout",
     "output_type": "stream",
     "text": [
      "batch index : 0 | loss : 0.4686161279678345\n",
      "batch index : 1 | loss : 0.3071622848510742\n",
      "batch index : 2 | loss : 0.36870336532592773\n",
      "batch index : 3 | loss : 0.2993308901786804\n",
      "batch index : 4 | loss : 0.19795870780944824\n",
      "batch index : 5 | loss : 0.07155531644821167\n",
      "batch index : 6 | loss : 0.04137539863586426\n",
      "batch index : 7 | loss : 0.11171424388885498\n",
      "batch index : 8 | loss : 0.2219374179840088\n",
      "batch index : 9 | loss : -0.052559852600097656\n",
      "batch index : 10 | loss : 0.06206715106964111\n",
      "batch index : 11 | loss : 0.04565197229385376\n",
      "batch index : 12 | loss : -0.20890676975250244\n",
      "batch index : 13 | loss : -0.23346519470214844\n",
      "batch index : 14 | loss : -0.3938620090484619\n",
      "batch index : 15 | loss : -0.36261510848999023\n",
      "batch index : 16 | loss : -0.4848790168762207\n",
      "batch index : 17 | loss : -0.47525954246520996\n",
      "batch index : 18 | loss : -0.32287323474884033\n",
      "batch index : 19 | loss : -0.44463610649108887\n",
      "batch index : 20 | loss : -0.4322526454925537\n",
      "batch index : 21 | loss : -0.558600902557373\n",
      "batch index : 22 | loss : -0.39820170402526855\n",
      "batch index : 23 | loss : -0.5839071273803711\n",
      "batch index : 24 | loss : -0.5146467685699463\n",
      "batch index : 25 | loss : -0.6543694734573364\n",
      "batch index : 26 | loss : -0.6135333776473999\n",
      "batch index : 27 | loss : -0.6458926200866699\n",
      "batch index : 28 | loss : -0.6212702989578247\n",
      "batch index : 29 | loss : -0.6713937520980835\n",
      "batch index : 30 | loss : 0.03664880990982056\n",
      "batch index : 31 | loss : -0.6494004726409912\n",
      "batch index : 32 | loss : -0.6419157981872559\n",
      "batch index : 33 | loss : -0.7747735977172852\n",
      "batch index : 34 | loss : -0.666818380355835\n",
      "batch index : 35 | loss : -0.7197582721710205\n",
      "batch index : 36 | loss : -0.6981450319290161\n",
      "batch index : 37 | loss : -0.7867186069488525\n",
      "batch index : 38 | loss : -0.7696802616119385\n",
      "batch index : 39 | loss : -0.8095991611480713\n",
      "batch index : 40 | loss : 0.02303558588027954\n",
      "batch index : 41 | loss : 0.02188187837600708\n",
      "batch index : 42 | loss : -0.8146176338195801\n",
      "batch index : 43 | loss : -0.0033789873123168945\n",
      "batch index : 44 | loss : -0.7985341548919678\n",
      "batch index : 45 | loss : -0.780913233757019\n",
      "batch index : 46 | loss : -0.6059062480926514\n",
      "batch index : 47 | loss : 0.04423242807388306\n",
      "batch index : 48 | loss : -0.6941578388214111\n",
      "batch index : 49 | loss : -0.7291133403778076\n",
      "batch index : 50 | loss : 0.03637212514877319\n",
      "batch index : 51 | loss : -0.08485114574432373\n",
      "batch index : 52 | loss : 0.03819328546524048\n",
      "batch index : 53 | loss : -0.21437466144561768\n",
      "batch index : 54 | loss : -0.22424697875976562\n",
      "batch index : 55 | loss : -0.6872458457946777\n",
      "batch index : 56 | loss : -0.48460447788238525\n",
      "batch index : 57 | loss : -0.7354390621185303\n",
      "batch index : 58 | loss : -0.5456719398498535\n",
      "batch index : 59 | loss : -0.8586020469665527\n",
      "batch index : 60 | loss : -0.7836437225341797\n",
      "batch index : 61 | loss : -0.8544142246246338\n",
      "batch index : 62 | loss : -0.8293883800506592\n",
      "batch index : 63 | loss : -0.8126242160797119\n",
      "batch index : 64 | loss : -0.7140945196151733\n",
      "batch index : 65 | loss : -0.8950161933898926\n",
      "batch index : 66 | loss : -0.827582597732544\n",
      "batch index : 67 | loss : -0.41852617263793945\n",
      "batch index : 68 | loss : -0.8836463689804077\n",
      "batch index : 69 | loss : -0.7189335823059082\n",
      "batch index : 70 | loss : -0.6904706954956055\n",
      "batch index : 71 | loss : -0.7486591339111328\n",
      "batch index : 72 | loss : -0.6525866985321045\n",
      "batch index : 73 | loss : -0.8934564590454102\n",
      "batch index : 74 | loss : -0.8426129817962646\n",
      "batch index : 75 | loss : -0.8568236827850342\n",
      "batch index : 76 | loss : -0.830451488494873\n",
      "batch index : 77 | loss : -0.8336118459701538\n",
      "batch index : 78 | loss : -0.8049561977386475\n",
      "batch index : 79 | loss : -0.785416841506958\n",
      "batch index : 80 | loss : -0.3179457187652588\n",
      "batch index : 81 | loss : -0.8541581630706787\n",
      "batch index : 82 | loss : -0.8603470325469971\n",
      "batch index : 83 | loss : -0.4555741548538208\n",
      "batch index : 84 | loss : -0.6725932359695435\n",
      "batch index : 85 | loss : -0.771834135055542\n",
      "batch index : 86 | loss : -0.824338436126709\n",
      "batch index : 87 | loss : -0.744739294052124\n",
      "batch index : 88 | loss : -0.7122410535812378\n",
      "batch index : 89 | loss : -0.814490795135498\n",
      "batch index : 90 | loss : -0.7391681671142578\n",
      "batch index : 91 | loss : -0.8903450965881348\n",
      "batch index : 92 | loss : -0.7805304527282715\n",
      "batch index : 93 | loss : -0.7966328859329224\n",
      "batch index : 94 | loss : -0.8361902236938477\n",
      "batch index : 95 | loss : -0.900660514831543\n",
      "batch index : 96 | loss : -0.8910472393035889\n",
      "batch index : 97 | loss : -0.7317031621932983\n",
      "batch index : 98 | loss : -0.8604152202606201\n",
      "batch index : 99 | loss : -0.7044579982757568\n",
      "batch index : 100 | loss : -0.8912423849105835\n",
      "batch index : 101 | loss : -0.8484618663787842\n",
      "batch index : 102 | loss : -0.8560307025909424\n",
      "batch index : 103 | loss : -0.7294660806655884\n",
      "batch index : 104 | loss : -0.8785520792007446\n",
      "batch index : 105 | loss : -0.7802450656890869\n",
      "batch index : 106 | loss : -0.8712663650512695\n",
      "batch index : 107 | loss : -0.8455617427825928\n",
      "batch index : 108 | loss : -0.7937281131744385\n",
      "batch index : 109 | loss : -0.7878623008728027\n",
      "batch index : 110 | loss : -0.8246598243713379\n",
      "batch index : 111 | loss : -0.8733088970184326\n",
      "batch index : 112 | loss : -0.8849360942840576\n",
      "batch index : 113 | loss : -0.9057323932647705\n",
      "batch index : 114 | loss : -0.8352968692779541\n",
      "batch index : 115 | loss : -0.8643121719360352\n",
      "batch index : 116 | loss : -0.8692493438720703\n",
      "batch index : 117 | loss : -0.9056950807571411\n",
      "batch index : 118 | loss : -0.8466957807540894\n",
      "batch index : 119 | loss : -0.9243183135986328\n",
      "batch index : 120 | loss : -0.8747603893280029\n",
      "batch index : 121 | loss : -0.3102635145187378\n",
      "batch index : 122 | loss : -0.8050013780593872\n",
      "batch index : 123 | loss : -0.8975338935852051\n",
      "batch index : 124 | loss : -0.8763525485992432\n",
      "batch index : 125 | loss : -0.8114335536956787\n",
      "batch index : 126 | loss : -0.7866580486297607\n",
      "batch index : 127 | loss : -0.8842670917510986\n",
      "batch index : 128 | loss : -0.8681862354278564\n",
      "batch index : 129 | loss : -0.8272483348846436\n",
      "batch index : 130 | loss : -0.862973690032959\n",
      "batch index : 131 | loss : -0.867233395576477\n",
      "batch index : 132 | loss : -0.887066125869751\n",
      "batch index : 133 | loss : -0.8244683742523193\n",
      "batch index : 134 | loss : -0.879631519317627\n",
      "batch index : 135 | loss : -0.841914176940918\n",
      "batch index : 136 | loss : -0.8946740627288818\n",
      "batch index : 137 | loss : -0.7569882869720459\n",
      "batch index : 138 | loss : -0.8698077201843262\n",
      "batch index : 139 | loss : -0.8064597845077515\n",
      "batch index : 140 | loss : -0.885743260383606\n",
      "batch index : 141 | loss : -0.8603832721710205\n",
      "batch index : 142 | loss : -0.8445460796356201\n",
      "batch index : 143 | loss : -0.6388916969299316\n",
      "batch index : 144 | loss : -0.8786590099334717\n",
      "batch index : 145 | loss : -0.9035184383392334\n",
      "batch index : 146 | loss : -0.871265172958374\n",
      "batch index : 147 | loss : -0.9022831916809082\n",
      "batch index : 148 | loss : -0.7937595844268799\n",
      "batch index : 149 | loss : -0.8845880031585693\n",
      "batch index : 150 | loss : -0.8648799657821655\n",
      "batch index : 151 | loss : -0.9159245491027832\n",
      "batch index : 152 | loss : -0.8697683811187744\n",
      "batch index : 153 | loss : -0.8242567777633667\n",
      "batch index : 154 | loss : -0.9082150459289551\n",
      "batch index : 155 | loss : -0.9019632339477539\n",
      "batch index : 156 | loss : -0.842362642288208\n",
      "Epoch 1, loss:  -0.6365097871251927\n",
      "Spend time for 1 epoch: 2793.9724102020264 sec\n",
      "batch index : 0 | loss : -0.8771142959594727\n",
      "batch index : 1 | loss : -0.871605634689331\n",
      "batch index : 2 | loss : -0.882718563079834\n",
      "batch index : 3 | loss : -0.8731002807617188\n",
      "batch index : 4 | loss : -0.8727635145187378\n",
      "batch index : 5 | loss : -0.8515658378601074\n",
      "batch index : 6 | loss : -0.8861696720123291\n",
      "batch index : 7 | loss : -0.8226161003112793\n",
      "batch index : 8 | loss : -0.842919111251831\n",
      "batch index : 9 | loss : -0.7606360912322998\n",
      "batch index : 10 | loss : -0.8768696784973145\n",
      "batch index : 11 | loss : -0.8854161500930786\n",
      "batch index : 12 | loss : -0.6583740711212158\n",
      "batch index : 13 | loss : -0.35022592544555664\n",
      "batch index : 14 | loss : -0.8429889678955078\n",
      "batch index : 15 | loss : -0.8886979818344116\n",
      "batch index : 16 | loss : -0.8583678007125854\n",
      "batch index : 17 | loss : -0.8323917388916016\n",
      "batch index : 18 | loss : -0.8036119937896729\n"
     ]
    },
    {
     "name": "stdout",
     "output_type": "stream",
     "text": [
      "batch index : 19 | loss : -0.7949991226196289\n",
      "batch index : 20 | loss : -0.8965154886245728\n",
      "batch index : 21 | loss : -0.8569366931915283\n",
      "batch index : 22 | loss : -0.8064165115356445\n",
      "batch index : 23 | loss : -0.8070361614227295\n",
      "batch index : 24 | loss : -0.9277632236480713\n",
      "batch index : 25 | loss : -0.9096629619598389\n",
      "batch index : 26 | loss : -0.7600924968719482\n",
      "batch index : 27 | loss : -0.7421489953994751\n",
      "batch index : 28 | loss : -0.7684590816497803\n",
      "batch index : 29 | loss : -0.6422138214111328\n",
      "batch index : 30 | loss : -0.8750712871551514\n",
      "batch index : 31 | loss : -0.8816254138946533\n",
      "batch index : 32 | loss : -0.8834569454193115\n",
      "batch index : 33 | loss : -0.8725171089172363\n",
      "batch index : 34 | loss : -0.9062604904174805\n",
      "batch index : 35 | loss : -0.854002833366394\n",
      "batch index : 36 | loss : -0.8912003040313721\n",
      "batch index : 37 | loss : -0.882512092590332\n",
      "batch index : 38 | loss : -0.8455460071563721\n",
      "batch index : 39 | loss : -0.8978699445724487\n",
      "batch index : 40 | loss : -0.8559455871582031\n",
      "batch index : 41 | loss : -0.29790472984313965\n",
      "batch index : 42 | loss : -0.8405060768127441\n",
      "batch index : 43 | loss : -0.708306074142456\n",
      "batch index : 44 | loss : -0.7101516723632812\n",
      "batch index : 45 | loss : -0.8323087692260742\n",
      "batch index : 46 | loss : -0.8071107864379883\n",
      "batch index : 47 | loss : -0.7291676998138428\n",
      "batch index : 48 | loss : -0.8056824207305908\n",
      "batch index : 49 | loss : -0.7986485958099365\n",
      "batch index : 50 | loss : -0.8016388416290283\n",
      "batch index : 51 | loss : -0.8206422328948975\n",
      "batch index : 52 | loss : -0.8803433179855347\n",
      "batch index : 53 | loss : -0.7841246128082275\n",
      "batch index : 54 | loss : -0.8804504871368408\n",
      "batch index : 55 | loss : -0.8416016101837158\n",
      "batch index : 56 | loss : -0.7859505414962769\n",
      "batch index : 57 | loss : -0.8384673595428467\n",
      "batch index : 58 | loss : -0.8721194267272949\n",
      "batch index : 59 | loss : -0.8146834373474121\n",
      "batch index : 60 | loss : -0.8000214099884033\n",
      "batch index : 61 | loss : -0.8255621194839478\n",
      "batch index : 62 | loss : -0.8304706811904907\n",
      "batch index : 63 | loss : -0.849388599395752\n",
      "batch index : 64 | loss : -0.8891720771789551\n",
      "batch index : 65 | loss : -0.75589919090271\n",
      "batch index : 66 | loss : -0.88199782371521\n",
      "batch index : 67 | loss : -0.8690948486328125\n",
      "batch index : 68 | loss : -0.7782816886901855\n",
      "batch index : 69 | loss : -0.8574159145355225\n",
      "batch index : 70 | loss : -0.9041370153427124\n",
      "batch index : 71 | loss : -0.9043782949447632\n",
      "batch index : 72 | loss : -0.8184804916381836\n",
      "batch index : 73 | loss : -0.8816661834716797\n",
      "batch index : 74 | loss : -0.8249204158782959\n",
      "batch index : 75 | loss : -0.8289778232574463\n",
      "batch index : 76 | loss : -0.85890793800354\n",
      "batch index : 77 | loss : -0.858788013458252\n",
      "batch index : 78 | loss : -0.9117770195007324\n",
      "batch index : 79 | loss : -0.8925042152404785\n",
      "batch index : 80 | loss : -0.8669499158859253\n",
      "batch index : 81 | loss : -0.8691718578338623\n",
      "batch index : 82 | loss : -0.8913905620574951\n",
      "batch index : 83 | loss : -0.8841181993484497\n",
      "batch index : 84 | loss : -0.9109301567077637\n",
      "batch index : 85 | loss : -0.8750052452087402\n",
      "batch index : 86 | loss : -0.9052755832672119\n",
      "batch index : 87 | loss : -0.2968103885650635\n",
      "batch index : 88 | loss : -0.8859574794769287\n",
      "batch index : 89 | loss : -0.8966906070709229\n",
      "batch index : 90 | loss : -0.9195756912231445\n",
      "batch index : 91 | loss : -0.919614315032959\n",
      "batch index : 92 | loss : -0.7694113254547119\n",
      "batch index : 93 | loss : -0.8902236223220825\n",
      "batch index : 94 | loss : -0.8443517684936523\n",
      "batch index : 95 | loss : -0.8540327548980713\n",
      "batch index : 96 | loss : -0.8947625160217285\n",
      "batch index : 97 | loss : -0.8160048723220825\n",
      "batch index : 98 | loss : -0.7411495447158813\n",
      "batch index : 99 | loss : -0.6075115203857422\n",
      "batch index : 100 | loss : -0.794273853302002\n",
      "batch index : 101 | loss : -0.8880022764205933\n",
      "batch index : 102 | loss : -0.8099693059921265\n",
      "batch index : 103 | loss : -0.8935871124267578\n",
      "batch index : 104 | loss : -0.8996537923812866\n",
      "batch index : 105 | loss : -0.9248441457748413\n",
      "batch index : 106 | loss : -0.745812177658081\n",
      "batch index : 107 | loss : -0.7599413394927979\n",
      "batch index : 108 | loss : -0.7705248594284058\n",
      "batch index : 109 | loss : -0.7625768184661865\n",
      "batch index : 110 | loss : -0.8588945865631104\n",
      "batch index : 111 | loss : -0.6249325275421143\n",
      "batch index : 112 | loss : -0.9179747104644775\n",
      "batch index : 113 | loss : -0.8582680225372314\n",
      "batch index : 114 | loss : -0.9037574529647827\n",
      "batch index : 115 | loss : -0.8753769397735596\n",
      "batch index : 116 | loss : -0.8672454357147217\n",
      "batch index : 117 | loss : -0.6957917213439941\n",
      "batch index : 118 | loss : -0.898901104927063\n",
      "batch index : 119 | loss : -0.7980175018310547\n",
      "batch index : 120 | loss : -0.8906391859054565\n",
      "batch index : 121 | loss : -0.9161958694458008\n",
      "batch index : 122 | loss : -0.885199785232544\n",
      "batch index : 123 | loss : -0.8976833820343018\n",
      "batch index : 124 | loss : -0.9189265966415405\n",
      "batch index : 125 | loss : -0.9077553749084473\n",
      "batch index : 126 | loss : -0.8952522277832031\n",
      "batch index : 127 | loss : -0.9070905447006226\n",
      "batch index : 128 | loss : -0.9097576141357422\n",
      "batch index : 129 | loss : -0.8912131786346436\n",
      "batch index : 130 | loss : -0.8676925897598267\n",
      "batch index : 131 | loss : -0.8625452518463135\n",
      "batch index : 132 | loss : -0.8106153011322021\n",
      "batch index : 133 | loss : -0.9031765460968018\n",
      "batch index : 134 | loss : -0.8946034908294678\n",
      "batch index : 135 | loss : -0.9234087467193604\n",
      "batch index : 136 | loss : -0.8952968120574951\n",
      "batch index : 137 | loss : -0.8884624242782593\n",
      "batch index : 138 | loss : -0.8916885852813721\n",
      "batch index : 139 | loss : -0.8781499862670898\n",
      "batch index : 140 | loss : -0.046598076820373535\n",
      "batch index : 141 | loss : -0.918185830116272\n",
      "batch index : 142 | loss : -0.8786413669586182\n",
      "batch index : 143 | loss : -0.8973979949951172\n",
      "batch index : 144 | loss : -0.27896714210510254\n",
      "batch index : 145 | loss : -0.7576243877410889\n",
      "batch index : 146 | loss : -0.8007636070251465\n",
      "batch index : 147 | loss : -0.9232187271118164\n",
      "batch index : 148 | loss : -0.8728162050247192\n",
      "batch index : 149 | loss : -0.8897814750671387\n",
      "batch index : 150 | loss : -0.7235819101333618\n",
      "batch index : 151 | loss : -0.37378203868865967\n",
      "batch index : 152 | loss : -0.8881171941757202\n",
      "batch index : 153 | loss : -0.7698800563812256\n",
      "batch index : 154 | loss : -0.7899363040924072\n",
      "batch index : 155 | loss : -0.8641637563705444\n",
      "batch index : 156 | loss : -0.8909816741943359\n",
      "Epoch 2, loss:  -0.8245549763843512\n",
      "Spend time for 1 epoch: 2492.136516571045 sec\n"
     ]
    }
   ],
   "source": [
    "%%time\n",
    "\n",
    "epoch_losses = []\n",
    "for epoch in range(epochs):  # loop over the dataset multiple times\n",
    "    epoch_loss = []\n",
    "    time1 = time.time()\n",
    "    for i, data in enumerate(train_data_loader, 0):\n",
    "        # get the inputs; data is a list of [inputs, labels]\n",
    "        inputs, labels = data\n",
    "        inputs = inputs.to(device)\n",
    "        labels = labels.to(device)\n",
    "\n",
    "        # zero the parameter gradients\n",
    "        optimizer.zero_grad()\n",
    "\n",
    "        # forward + backward + optimize\n",
    "        outputs = segmodel(inputs[0])\n",
    "        loss = criterion(outputs,labels[0,0,:,:,:])\n",
    "        loss.backward()\n",
    "        optimizer.step()\n",
    "        epoch_loss.append(loss.item())\n",
    "        print(f'batch index : {i} | loss : {loss.item()}')\n",
    "\n",
    "    print(f'Epoch {epoch+1}, loss: ',np.mean(epoch_loss))\n",
    "    time2 = time.time()\n",
    "    print(f'Spend time for 1 epoch: {time2-time1} sec')\n",
    "    \n",
    "    epoch_losses.append(epoch_loss)"
   ]
  },
  {
   "cell_type": "code",
   "execution_count": 43,
   "metadata": {},
   "outputs": [],
   "source": [
    "def get_orig(image):\n",
    "    #image = images[0,:,:,:]\n",
    "    image = image.permute(1, 2, 0)\n",
    "    image = image.cpu().numpy()\n",
    "    image = np.clip(image, 0, 1)\n",
    "    return image"
   ]
  },
  {
   "cell_type": "code",
   "execution_count": 44,
   "metadata": {},
   "outputs": [
    {
     "data": {
      "image/png": "[encoded data removed]",
      "text/plain": [
       "<Figure size 432x288 with 3 Axes>"
      ]
     },
     "metadata": {
      "needs_background": "light"
     },
     "output_type": "display_data"
    },
    {
     "name": "stderr",
     "output_type": "stream",
     "text": [
      "<ipython-input-44-417956fa7e4c>:18: UserWarning: Matplotlib is currently using module://ipykernel.pylab.backend_inline, which is a non-GUI backend, so cannot show the figure.\n",
      "  plt.gcf().show()\n"
     ]
    },
    {
     "data": {
      "text/plain": [
       "<Figure size 432x288 with 0 Axes>"
      ]
     },
     "metadata": {},
     "output_type": "display_data"
    },
    {
     "data": {
      "image/png": "[encoded data removed]",
      "text/plain": [
       "<Figure size 432x288 with 3 Axes>"
      ]
     },
     "metadata": {
      "needs_background": "light"
     },
     "output_type": "display_data"
    },
    {
     "data": {
      "text/plain": [
       "<Figure size 432x288 with 0 Axes>"
      ]
     },
     "metadata": {},
     "output_type": "display_data"
    },
    {
     "data": {
      "image/png": "[encoded data removed]",
      "text/plain": [
       "<Figure size 432x288 with 3 Axes>"
      ]
     },
     "metadata": {
      "needs_background": "light"
     },
     "output_type": "display_data"
    },
    {
     "data": {
      "text/plain": [
       "<Figure size 432x288 with 0 Axes>"
      ]
     },
     "metadata": {},
     "output_type": "display_data"
    },
    {
     "data": {
      "image/png": "[encoded data removed]",
      "text/plain": [
       "<Figure size 432x288 with 3 Axes>"
      ]
     },
     "metadata": {
      "needs_background": "light"
     },
     "output_type": "display_data"
    },
    {
     "data": {
      "text/plain": [
       "<Figure size 432x288 with 0 Axes>"
      ]
     },
     "metadata": {},
     "output_type": "display_data"
    },
    {
     "data": {
      "image/png": "[encoded data removed]",
      "text/plain": [
       "<Figure size 432x288 with 3 Axes>"
      ]
     },
     "metadata": {
      "needs_background": "light"
     },
     "output_type": "display_data"
    },
    {
     "data": {
      "text/plain": [
       "<Figure size 432x288 with 0 Axes>"
      ]
     },
     "metadata": {},
     "output_type": "display_data"
    }
   ],
   "source": [
    "for i, data in enumerate(test_data_loader):\n",
    "    images, labels = data\n",
    "    images, labels = images.cuda(), labels.cuda()\n",
    "    outputs = segmodel(images[0])\n",
    "    f, axarr = plt.subplots(1,3)\n",
    "\n",
    "    axarr[0].imshow(outputs.detach().cpu().numpy()[0,0,:,:])\n",
    "    axarr[0].set_title('Guessed labels')\n",
    "    \n",
    "    axarr[1].imshow(labels[0].detach().cpu().numpy()[0,0,:,:])\n",
    "    axarr[1].set_title('Ground truth labels')\n",
    "    \n",
    "    original = get_orig(images[0][0,:,:,:])\n",
    "    axarr[2].imshow(original)\n",
    "    axarr[2].set_title('Original Images')\n",
    "    \n",
    "    plt.show()\n",
    "    plt.gcf().show()\n",
    "    if i>3:\n",
    "        break"
   ]
  },
  {
   "cell_type": "code",
   "execution_count": null,
   "metadata": {},
   "outputs": [],
   "source": []
  }
 ],
 "metadata": {
  "kernelspec": {
   "display_name": "Python 3",
   "language": "python",
   "name": "python3"
  },
  "language_info": {
   "codemirror_mode": {
    "name": "ipython",
    "version": 3
   },
   "file_extension": ".py",
   "mimetype": "text/x-python",
   "name": "python",
   "nbconvert_exporter": "python",
   "pygments_lexer": "ipython3",
   "version": "3.8.3"
  }
 },
 "nbformat": 4,
 "nbformat_minor": 4
}
