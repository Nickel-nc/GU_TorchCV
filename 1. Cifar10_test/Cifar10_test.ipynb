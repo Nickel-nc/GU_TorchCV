{
 "cells": [
  {
   "cell_type": "markdown",
   "metadata": {},
   "source": [
    "### Тест CNN модели для cifar10 на pytorch"
   ]
  },
  {
   "cell_type": "code",
   "execution_count": 1,
   "metadata": {},
   "outputs": [],
   "source": [
    "import torch\n",
    "import torchvision\n",
    "import torchvision.transforms as transforms\n",
    "from torch import nn \n",
    "import torch.nn.functional as F\n",
    "from torch import optim\n",
    "from matplotlib import pyplot as plt"
   ]
  },
  {
   "cell_type": "code",
   "execution_count": 2,
   "metadata": {},
   "outputs": [
    {
     "data": {
      "text/plain": [
       "device(type='cuda', index=0)"
      ]
     },
     "execution_count": 2,
     "metadata": {},
     "output_type": "execute_result"
    }
   ],
   "source": [
    "device = torch.device(\"cuda:0\" if torch.cuda.is_available() else \"cpu\")\n",
    "device"
   ]
  },
  {
   "cell_type": "code",
   "execution_count": 3,
   "metadata": {},
   "outputs": [],
   "source": [
    "# Базовые настройки\n",
    "\n",
    "classes = ('plane', 'car', 'bird', 'cat',\n",
    "           'deer', 'dog', 'frog', 'horse', 'ship', 'truck')\n",
    "\n",
    "n_epochs = 50\n",
    "train_batch_size = 128\n",
    "test_batch_size = 10\n",
    "\n",
    "train_path = './cifar10/train/'\n",
    "test_path  = './cifar10/test/'"
   ]
  },
  {
   "cell_type": "code",
   "execution_count": 21,
   "metadata": {},
   "outputs": [
    {
     "name": "stdout",
     "output_type": "stream",
     "text": [
      "Files already downloaded and verified\n",
      "Files already downloaded and verified\n"
     ]
    }
   ],
   "source": [
    "\"\"\"\n",
    "Загрузка и предобработка датасета через torch DataLoader \n",
    "(конвертация в torch тензоры и стандартизация)\n",
    "\n",
    "# Стандартизация неплохо работает в CNN \n",
    "и помогает лучше справляться с проблемой затухающих градиентов\n",
    "Приводим mean и std для каждого канала изображения к диапазону [-1,1] \n",
    "\"\"\"\n",
    "transform = transforms.Compose(\n",
    "    [transforms.ToTensor(),\n",
    "     transforms.Normalize((0.5, 0.5, 0.5), (0.5, 0.5, 0.5))])\n",
    "\n",
    "train_dataset = torchvision.datasets.CIFAR10(root=train_path,\n",
    "                                             train=True,  \n",
    "                                             transform=transform, \n",
    "                                             download=True)\n",
    "\n",
    "train_loader = torch.utils.data.DataLoader(dataset=train_dataset,\n",
    "                                           batch_size=train_batch_size, \n",
    "                                           shuffle=True)\n",
    "\n",
    "test_dataset = torchvision.datasets.CIFAR10(root=test_path,\n",
    "                                            train=False,\n",
    "                                            download=True,\n",
    "                                            transform=transform)\n",
    "test_loader = torch.utils.data.DataLoader(test_dataset,\n",
    "                                          batch_size=test_batch_size,\n",
    "                                          shuffle=False)"
   ]
  },
  {
   "cell_type": "code",
   "execution_count": 22,
   "metadata": {},
   "outputs": [],
   "source": [
    "def convert_to_imshow_format(image):\n",
    "    \"\"\"\n",
    "    Конвертация изображений для визуализации\n",
    "    - возврат диапазона (0, 1)\n",
    "    - преобразование порядка размерностей CHW -> HWC (3x32x32 -> 32x32x3)\n",
    "    \"\"\"\n",
    "    image = image / 2 + 0.5\n",
    "    image = image.numpy()\n",
    "    return image.transpose(1,2,0)\n",
    "\n",
    "def show_images(n_show: int,\n",
    "                loader: object,\n",
    "                classes: dict = classes,\n",
    "                estimator: callable = None\n",
    "               ):\n",
    "    \"\"\"\n",
    "    Визуализация изображений из torch DataLoader\n",
    "    \n",
    "    Parameters\n",
    "    ----------\n",
    "    \n",
    "    n_show: int\n",
    "        Количество выводимых изображений. (Работает с > 5)\n",
    "        \n",
    "    loader: torch.utils.data.dataloader.DataLoader\n",
    "        Датасет из torch DataLoader\n",
    "        \n",
    "    classes: dict\n",
    "        Список наименований меток классов\n",
    "    estimator: callable\n",
    "        CNN Модель. Если передан, то выводит предсказанный класс\n",
    "    \"\"\"\n",
    "    dataiter = iter(loader)\n",
    "    images, labels = dataiter.next()\n",
    "    images, labels = images[:n_show], labels[:n_show]\n",
    "    n_rows = n_show//5 + int((n_show%5 > 0))\n",
    "    fig, axes = plt.subplots(n_rows, 5, figsize=(14, n_rows*2.5))\n",
    "    if estimator:\n",
    "        outputs = estimator(images)\n",
    "        probs, index = torch.max(outputs, dim=1)\n",
    "        _, pred = torch.max(outputs, 1)\n",
    "        \n",
    "    for idx, image in enumerate(images):\n",
    "        axes[idx//5, idx%5].imshow(convert_to_imshow_format(image))\n",
    "        if estimator:\n",
    "            axes[idx//5, idx%5].set_title(f'truth {classes[labels[idx]]}, pred: {classes[pred[i]]}')\n",
    "        else: \n",
    "            axes[idx//5, idx%5].set_title(f'truth {classes[labels[idx]]}')\n",
    "        axes[idx//5, idx%5].set_xticks([])\n",
    "        axes[idx//5, idx%5].set_yticks([])"
   ]
  },
  {
   "cell_type": "code",
   "execution_count": 6,
   "metadata": {},
   "outputs": [
    {
     "data": {
      "image/png": "[encoded data removed]",
      "text/plain": [
       "<Figure size 1008x360 with 10 Axes>"
      ]
     },
     "metadata": {},
     "output_type": "display_data"
    }
   ],
   "source": [
    "show_images(n_show=10, loader=train_loader)"
   ]
  },
  {
   "cell_type": "code",
   "execution_count": 11,
   "metadata": {},
   "outputs": [],
   "source": [
    "class Cifar10Net(nn.Module):\n",
    "    def __init__(self, num_classes=10):\n",
    "        super().__init__()\n",
    "        self.conv1 = nn.Conv2d(in_channels=3,\n",
    "                               out_channels=6,\n",
    "                               kernel_size=5,\n",
    "                               padding=0)\n",
    "        self.bn1 = nn.BatchNorm2d(6)\n",
    "        self.pool = nn.MaxPool2d(2, 2)\n",
    "        self.conv2 = nn.Conv2d(in_channels=6,\n",
    "                               out_channels=16,\n",
    "                               kernel_size=5,\n",
    "                               padding=0)\n",
    "        \n",
    "        \n",
    "#         self.conv2 = nn.Conv2d(6, 16, 5)\n",
    "        self.fc1 = nn.Linear(16 * 5 * 5, 120)\n",
    "        self.fc2 = nn.Linear(120, 84)\n",
    "        self.fc3 = nn.Linear(84, num_classes)\n",
    "\n",
    "    def forward(self, x):\n",
    "        # x = self.pool(F.relu(self.bn1(self.conv1(x))))\n",
    "        x = self.pool(F.relu(self.conv1(x)))\n",
    "        x = self.pool(F.relu(self.conv2(x)))\n",
    "        x = x.view(-1, 16 * 5 * 5)\n",
    "        x = F.dropout(x, 0.2)\n",
    "        # x = x.view(x.size(0), -1)\n",
    "        x = F.relu(self.fc1(x))\n",
    "        x = F.relu(self.fc2(x))\n",
    "        x = self.fc3(x)\n",
    "        return x\n",
    "\n",
    "\n",
    "net = Cifar10Net().to(device)"
   ]
  },
  {
   "cell_type": "code",
   "execution_count": 12,
   "metadata": {},
   "outputs": [
    {
     "data": {
      "text/plain": [
       "Cifar10Net(\n",
       "  (conv1): Conv2d(3, 6, kernel_size=(5, 5), stride=(1, 1))\n",
       "  (bn1): BatchNorm2d(6, eps=1e-05, momentum=0.1, affine=True, track_running_stats=True)\n",
       "  (pool): MaxPool2d(kernel_size=2, stride=2, padding=0, dilation=1, ceil_mode=False)\n",
       "  (conv2): Conv2d(6, 16, kernel_size=(5, 5), stride=(1, 1))\n",
       "  (fc1): Linear(in_features=400, out_features=120, bias=True)\n",
       "  (fc2): Linear(in_features=120, out_features=84, bias=True)\n",
       "  (fc3): Linear(in_features=84, out_features=10, bias=True)\n",
       ")"
      ]
     },
     "execution_count": 12,
     "metadata": {},
     "output_type": "execute_result"
    }
   ],
   "source": [
    "net"
   ]
  },
  {
   "cell_type": "code",
   "execution_count": 13,
   "metadata": {},
   "outputs": [],
   "source": [
    "criterion = nn.CrossEntropyLoss()\n",
    "optimizer = optim.Adam(net.parameters(), lr=0.0005)"
   ]
  },
  {
   "cell_type": "code",
   "execution_count": 14,
   "metadata": {},
   "outputs": [
    {
     "name": "stdout",
     "output_type": "stream",
     "text": [
      "[1,     1] loss: 0.001\n",
      "[1,   301] loss: 0.280\n",
      "[2,     1] loss: 0.001\n",
      "[2,   301] loss: 0.236\n",
      "[3,     1] loss: 0.001\n",
      "[3,   301] loss: 0.222\n",
      "[4,     1] loss: 0.001\n",
      "[4,   301] loss: 0.211\n",
      "[5,     1] loss: 0.001\n",
      "[5,   301] loss: 0.203\n",
      "[6,     1] loss: 0.001\n",
      "[6,   301] loss: 0.196\n",
      "[7,     1] loss: 0.001\n",
      "[7,   301] loss: 0.189\n",
      "[8,     1] loss: 0.001\n",
      "[8,   301] loss: 0.184\n",
      "[9,     1] loss: 0.001\n",
      "[9,   301] loss: 0.180\n",
      "[10,     1] loss: 0.001\n",
      "[10,   301] loss: 0.177\n",
      "[11,     1] loss: 0.001\n",
      "[11,   301] loss: 0.173\n",
      "[12,     1] loss: 0.000\n",
      "[12,   301] loss: 0.169\n",
      "[13,     1] loss: 0.001\n",
      "[13,   301] loss: 0.166\n",
      "[14,     1] loss: 0.000\n",
      "[14,   301] loss: 0.163\n",
      "[15,     1] loss: 0.001\n",
      "[15,   301] loss: 0.161\n",
      "[16,     1] loss: 0.001\n",
      "[16,   301] loss: 0.158\n",
      "[17,     1] loss: 0.000\n",
      "[17,   301] loss: 0.154\n",
      "[18,     1] loss: 0.001\n",
      "[18,   301] loss: 0.153\n",
      "[19,     1] loss: 0.001\n",
      "[19,   301] loss: 0.151\n",
      "[20,     1] loss: 0.001\n",
      "[20,   301] loss: 0.147\n",
      "[21,     1] loss: 0.001\n",
      "[21,   301] loss: 0.146\n",
      "[22,     1] loss: 0.000\n",
      "[22,   301] loss: 0.144\n",
      "[23,     1] loss: 0.000\n",
      "[23,   301] loss: 0.142\n",
      "[24,     1] loss: 0.000\n",
      "[24,   301] loss: 0.140\n",
      "[25,     1] loss: 0.000\n",
      "[25,   301] loss: 0.138\n",
      "[26,     1] loss: 0.000\n",
      "[26,   301] loss: 0.137\n",
      "[27,     1] loss: 0.000\n",
      "[27,   301] loss: 0.135\n",
      "[28,     1] loss: 0.000\n",
      "[28,   301] loss: 0.133\n",
      "[29,     1] loss: 0.000\n",
      "[29,   301] loss: 0.132\n",
      "[30,     1] loss: 0.000\n",
      "[30,   301] loss: 0.131\n",
      "[31,     1] loss: 0.000\n",
      "[31,   301] loss: 0.129\n",
      "[32,     1] loss: 0.000\n",
      "[32,   301] loss: 0.128\n",
      "[33,     1] loss: 0.000\n",
      "[33,   301] loss: 0.127\n",
      "[34,     1] loss: 0.000\n",
      "[34,   301] loss: 0.126\n",
      "[35,     1] loss: 0.000\n",
      "[35,   301] loss: 0.125\n",
      "[36,     1] loss: 0.000\n",
      "[36,   301] loss: 0.123\n",
      "[37,     1] loss: 0.000\n",
      "[37,   301] loss: 0.123\n",
      "[38,     1] loss: 0.000\n",
      "[38,   301] loss: 0.122\n",
      "[39,     1] loss: 0.000\n",
      "[39,   301] loss: 0.121\n",
      "[40,     1] loss: 0.000\n",
      "[40,   301] loss: 0.119\n",
      "[41,     1] loss: 0.000\n",
      "[41,   301] loss: 0.119\n",
      "[42,     1] loss: 0.000\n",
      "[42,   301] loss: 0.118\n",
      "[43,     1] loss: 0.000\n",
      "[43,   301] loss: 0.116\n",
      "[44,     1] loss: 0.000\n",
      "[44,   301] loss: 0.116\n",
      "[45,     1] loss: 0.000\n",
      "[45,   301] loss: 0.115\n",
      "[46,     1] loss: 0.000\n",
      "[46,   301] loss: 0.114\n",
      "[47,     1] loss: 0.000\n",
      "[47,   301] loss: 0.113\n",
      "[48,     1] loss: 0.000\n",
      "[48,   301] loss: 0.113\n",
      "[49,     1] loss: 0.000\n",
      "[49,   301] loss: 0.112\n",
      "[50,     1] loss: 0.000\n",
      "[50,   301] loss: 0.113\n",
      "Training is finished!\n"
     ]
    }
   ],
   "source": [
    "for epoch in range(n_epochs):  \n",
    "    running_loss = 0.0\n",
    "    for i, data in enumerate(train_loader, 0):\n",
    "        inputs, labels = data[0].to(device), data[1].to(device)\n",
    "\n",
    "        # обнуляем градиент\n",
    "        optimizer.zero_grad()\n",
    "\n",
    "        outputs = net(inputs)\n",
    "        loss = criterion(outputs, labels)\n",
    "        loss.backward()\n",
    "        optimizer.step()\n",
    "\n",
    "        # выводим статистику о процессе обучения\n",
    "        running_loss += loss.item()\n",
    "        if i % 300 == 0:   \n",
    "            print('[%d, %5d] loss: %.3f' %\n",
    "                  (epoch + 1, i + 1, running_loss / 2000))\n",
    "            running_loss = 0.0\n",
    "\n",
    "print('Training is finished!')"
   ]
  },
  {
   "cell_type": "code",
   "execution_count": 15,
   "metadata": {},
   "outputs": [],
   "source": [
    "# сохранение весов модели\n",
    "model_path = './cifar10/model.pth'\n",
    "torch.save(net.state_dict(), model_path)"
   ]
  },
  {
   "cell_type": "markdown",
   "metadata": {},
   "source": [
    "### Inference mode"
   ]
  },
  {
   "cell_type": "code",
   "execution_count": 16,
   "metadata": {},
   "outputs": [
    {
     "data": {
      "text/plain": [
       "<All keys matched successfully>"
      ]
     },
     "execution_count": 16,
     "metadata": {},
     "output_type": "execute_result"
    }
   ],
   "source": [
    "# инициализация модели, загрузка весов\n",
    "net = Cifar10Net()\n",
    "net.load_state_dict(torch.load(model_path)) "
   ]
  },
  {
   "cell_type": "code",
   "execution_count": 17,
   "metadata": {},
   "outputs": [],
   "source": [
    "data_iter = iter(test_loader)\n",
    "images, labels = data_iter.next()"
   ]
  },
  {
   "cell_type": "code",
   "execution_count": 40,
   "metadata": {},
   "outputs": [],
   "source": [
    "# в индексирование закралась бага\n",
    "# show_images(n_show=6, loader=test_loader, estimator=net)"
   ]
  },
  {
   "cell_type": "code",
   "execution_count": 38,
   "metadata": {},
   "outputs": [
    {
     "name": "stderr",
     "output_type": "stream",
     "text": [
      "WARNING:matplotlib.image:Clipping input data to the valid range for imshow with RGB data ([0..1] for floats or [0..255] for integers).\n"
     ]
    },
    {
     "name": "stdout",
     "output_type": "stream",
     "text": [
      "GroundTruth:    cat  ship  ship plane  frog  frog   car  frog   cat   car\n"
     ]
    },
    {
     "data": {
      "image/png": "[encoded data removed]",
      "text/plain": [
       "<Figure size 432x288 with 1 Axes>"
      ]
     },
     "metadata": {
      "needs_background": "light"
     },
     "output_type": "display_data"
    }
   ],
   "source": [
    "outputs = net(images)\n",
    "imgs = torchvision.utils.make_grid(images)\n",
    "plt.imshow(imgs.permute(1, 2, 0).numpy())\n",
    "print('GroundTruth: ', ' '.join('%5s' % classes[labels[j]] for j in range(10)))"
   ]
  },
  {
   "cell_type": "code",
   "execution_count": 39,
   "metadata": {},
   "outputs": [
    {
     "name": "stdout",
     "output_type": "stream",
     "text": [
      "Predicted:    cat  ship   car plane  frog  frog   car  frog   cat   car\n"
     ]
    }
   ],
   "source": [
    "_, predicted = torch.max(outputs, 1)\n",
    "\n",
    "print('Predicted: ', ' '.join('%5s' % classes[predicted[j]]\n",
    "                              for j in range(10)))"
   ]
  },
  {
   "cell_type": "markdown",
   "metadata": {},
   "source": [
    "### Соотнесение CNN функционала tensorflow с pytorch "
   ]
  },
  {
   "cell_type": "markdown",
   "metadata": {},
   "source": [
    "```{python}\n",
    "model = tf.keras.models.Sequential([\n",
    "    tf.keras.layers.Flatten(input_shape=(28, 28)),\n",
    "    tf.keras.layers.Dense(128, activation='relu'),\n",
    "    tf.keras.layers.Dropout(0.2),\n",
    "    tf.keras.layers.Dense(10, activation='softmax')\n",
    "])\n",
    "\n",
    "model.compile(optimizer='adam',\n",
    "              loss='sparse_catecorical_crossentropy',\n",
    "              ...\n",
    "...\n",
    "...\n",
    "```"
   ]
  },
  {
   "cell_type": "code",
   "execution_count": 65,
   "metadata": {},
   "outputs": [],
   "source": [
    "class AsTfNet(nn.Module):\n",
    "    def __init__(self):\n",
    "        super(Net, self).__init__()\n",
    "        self.flatten = nn.Flatten(1, -1)\n",
    "        self.linear1 = nn.Linear(28*28, 128)\n",
    "        self.linear2 = nn.Linear(128, 10)\n",
    "        \n",
    "\n",
    "    def forward(self, x):\n",
    "        x = self.flatten(x)\n",
    "        x = self.linear1(x)\n",
    "        x = F.relu(x)\n",
    "        x = F.dropout(x, 0.2)\n",
    "        x = self.linear2(x)\n",
    "        x = F.softmax(x)\n",
    "        return x"
   ]
  },
  {
   "cell_type": "code",
   "execution_count": null,
   "metadata": {},
   "outputs": [],
   "source": []
  }
 ],
 "metadata": {
  "kernelspec": {
   "display_name": "Python 3",
   "language": "python",
   "name": "python3"
  },
  "language_info": {
   "codemirror_mode": {
    "name": "ipython",
    "version": 3
   },
   "file_extension": ".py",
   "mimetype": "text/x-python",
   "name": "python",
   "nbconvert_exporter": "python",
   "pygments_lexer": "ipython3",
   "version": "3.8.3"
  }
 },
 "nbformat": 4,
 "nbformat_minor": 4
}
